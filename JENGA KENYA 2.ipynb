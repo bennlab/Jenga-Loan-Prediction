{
 "cells": [
  {
   "cell_type": "markdown",
   "metadata": {},
   "source": [
    "## Import relevant libraries"
   ]
  },
  {
   "cell_type": "code",
   "execution_count": 1,
   "metadata": {},
   "outputs": [],
   "source": [
    "import pandas as pd\n",
    "import numpy as np\n",
    "import seaborn as sns\n",
    "import matplotlib as plt\n",
    "%matplotlib inline\n",
    "from datetime import timedelta\n",
    "from datetime import datetime\n",
    "from dateutil.relativedelta import relativedelta"
   ]
  },
  {
   "cell_type": "markdown",
   "metadata": {},
   "source": [
    "### Load the Dataset"
   ]
  },
  {
   "cell_type": "code",
   "execution_count": 2,
   "metadata": {},
   "outputs": [
    {
     "data": {
      "text/html": [
       "<div>\n",
       "<style scoped>\n",
       "    .dataframe tbody tr th:only-of-type {\n",
       "        vertical-align: middle;\n",
       "    }\n",
       "\n",
       "    .dataframe tbody tr th {\n",
       "        vertical-align: top;\n",
       "    }\n",
       "\n",
       "    .dataframe thead th {\n",
       "        text-align: right;\n",
       "    }\n",
       "</style>\n",
       "<table border=\"1\" class=\"dataframe\">\n",
       "  <thead>\n",
       "    <tr style=\"text-align: right;\">\n",
       "      <th></th>\n",
       "      <th>ClientID</th>\n",
       "      <th>Group ID</th>\n",
       "      <th>Client Type</th>\n",
       "      <th>Active</th>\n",
       "      <th>Date Of Birth</th>\n",
       "      <th>Gender</th>\n",
       "      <th>Marital Status</th>\n",
       "      <th>Registration Date</th>\n",
       "      <th>County</th>\n",
       "      <th>NOK Relationship</th>\n",
       "      <th>...</th>\n",
       "      <th>Occupation</th>\n",
       "      <th>Loan ID</th>\n",
       "      <th>Inactive</th>\n",
       "      <th>Loan_Type</th>\n",
       "      <th>Initial_Loan_Date</th>\n",
       "      <th>Loan_Amount</th>\n",
       "      <th>Interest_Rate</th>\n",
       "      <th>Loan_Length</th>\n",
       "      <th>Number_Payments</th>\n",
       "      <th>Time_Between_Payments</th>\n",
       "    </tr>\n",
       "  </thead>\n",
       "  <tbody>\n",
       "    <tr>\n",
       "      <th>0</th>\n",
       "      <td>22</td>\n",
       "      <td>100091.0</td>\n",
       "      <td>Group Client</td>\n",
       "      <td>1.0</td>\n",
       "      <td>5/6/1994 0:00</td>\n",
       "      <td>2.0</td>\n",
       "      <td>SINGLE</td>\n",
       "      <td>9/14/2016</td>\n",
       "      <td>MERU</td>\n",
       "      <td>MOTHER</td>\n",
       "      <td>...</td>\n",
       "      <td>FARMER</td>\n",
       "      <td>2563.0</td>\n",
       "      <td>1</td>\n",
       "      <td>11.0</td>\n",
       "      <td>4/11/2016</td>\n",
       "      <td>3000.0</td>\n",
       "      <td>0.2</td>\n",
       "      <td>12.0</td>\n",
       "      <td>50.0</td>\n",
       "      <td>1.0</td>\n",
       "    </tr>\n",
       "    <tr>\n",
       "      <th>1</th>\n",
       "      <td>23</td>\n",
       "      <td>100003.0</td>\n",
       "      <td>Group Client</td>\n",
       "      <td>0.0</td>\n",
       "      <td>NaN</td>\n",
       "      <td>2.0</td>\n",
       "      <td>NaN</td>\n",
       "      <td>NaN</td>\n",
       "      <td>NaN</td>\n",
       "      <td>NaN</td>\n",
       "      <td>...</td>\n",
       "      <td>NaN</td>\n",
       "      <td>NaN</td>\n",
       "      <td>NaN</td>\n",
       "      <td>NaN</td>\n",
       "      <td>NaN</td>\n",
       "      <td>NaN</td>\n",
       "      <td>NaN</td>\n",
       "      <td>NaN</td>\n",
       "      <td>NaN</td>\n",
       "      <td>NaN</td>\n",
       "    </tr>\n",
       "    <tr>\n",
       "      <th>2</th>\n",
       "      <td>24</td>\n",
       "      <td>100003.0</td>\n",
       "      <td>Group Client</td>\n",
       "      <td>1.0</td>\n",
       "      <td>NaN</td>\n",
       "      <td>2.0</td>\n",
       "      <td>NaN</td>\n",
       "      <td>NaN</td>\n",
       "      <td>NaN</td>\n",
       "      <td>NaN</td>\n",
       "      <td>...</td>\n",
       "      <td>NaN</td>\n",
       "      <td>2564.0</td>\n",
       "      <td>1</td>\n",
       "      <td>2.0</td>\n",
       "      <td>6/22/2015</td>\n",
       "      <td>60000.0</td>\n",
       "      <td>0.2</td>\n",
       "      <td>12.0</td>\n",
       "      <td>50.0</td>\n",
       "      <td>1.0</td>\n",
       "    </tr>\n",
       "    <tr>\n",
       "      <th>3</th>\n",
       "      <td>25</td>\n",
       "      <td>100003.0</td>\n",
       "      <td>Group Client</td>\n",
       "      <td>0.0</td>\n",
       "      <td>NaN</td>\n",
       "      <td>2.0</td>\n",
       "      <td>NaN</td>\n",
       "      <td>NaN</td>\n",
       "      <td>NaN</td>\n",
       "      <td>NaN</td>\n",
       "      <td>...</td>\n",
       "      <td>NaN</td>\n",
       "      <td>4.0</td>\n",
       "      <td>1</td>\n",
       "      <td>9.0</td>\n",
       "      <td>8/26/2011</td>\n",
       "      <td>10000.0</td>\n",
       "      <td>0.2</td>\n",
       "      <td>12.0</td>\n",
       "      <td>50.0</td>\n",
       "      <td>1.0</td>\n",
       "    </tr>\n",
       "    <tr>\n",
       "      <th>4</th>\n",
       "      <td>26</td>\n",
       "      <td>100003.0</td>\n",
       "      <td>Group Client</td>\n",
       "      <td>0.0</td>\n",
       "      <td>NaN</td>\n",
       "      <td>1.0</td>\n",
       "      <td>NaN</td>\n",
       "      <td>NaN</td>\n",
       "      <td>NaN</td>\n",
       "      <td>NaN</td>\n",
       "      <td>...</td>\n",
       "      <td>NaN</td>\n",
       "      <td>1520.0</td>\n",
       "      <td>1</td>\n",
       "      <td>9.0</td>\n",
       "      <td>6/24/2013</td>\n",
       "      <td>27500.0</td>\n",
       "      <td>0.2</td>\n",
       "      <td>12.0</td>\n",
       "      <td>50.0</td>\n",
       "      <td>1.0</td>\n",
       "    </tr>\n",
       "  </tbody>\n",
       "</table>\n",
       "<p>5 rows × 23 columns</p>\n",
       "</div>"
      ],
      "text/plain": [
       "   ClientID  Group ID   Client Type  Active  Date Of Birth  Gender  \\\n",
       "0        22  100091.0  Group Client     1.0  5/6/1994 0:00     2.0   \n",
       "1        23  100003.0  Group Client     0.0            NaN     2.0   \n",
       "2        24  100003.0  Group Client     1.0            NaN     2.0   \n",
       "3        25  100003.0  Group Client     0.0            NaN     2.0   \n",
       "4        26  100003.0  Group Client     0.0            NaN     1.0   \n",
       "\n",
       "  Marital Status Registration Date County NOK Relationship  ... Occupation  \\\n",
       "0         SINGLE         9/14/2016   MERU           MOTHER  ...     FARMER   \n",
       "1            NaN               NaN    NaN              NaN  ...        NaN   \n",
       "2            NaN               NaN    NaN              NaN  ...        NaN   \n",
       "3            NaN               NaN    NaN              NaN  ...        NaN   \n",
       "4            NaN               NaN    NaN              NaN  ...        NaN   \n",
       "\n",
       "  Loan ID Inactive Loan_Type  Initial_Loan_Date Loan_Amount  Interest_Rate  \\\n",
       "0  2563.0        1      11.0          4/11/2016      3000.0            0.2   \n",
       "1     NaN      NaN       NaN                NaN         NaN            NaN   \n",
       "2  2564.0        1       2.0          6/22/2015     60000.0            0.2   \n",
       "3     4.0        1       9.0          8/26/2011     10000.0            0.2   \n",
       "4  1520.0        1       9.0          6/24/2013     27500.0            0.2   \n",
       "\n",
       "  Loan_Length  Number_Payments  Time_Between_Payments  \n",
       "0        12.0             50.0                    1.0  \n",
       "1         NaN              NaN                    NaN  \n",
       "2        12.0             50.0                    1.0  \n",
       "3        12.0             50.0                    1.0  \n",
       "4        12.0             50.0                    1.0  \n",
       "\n",
       "[5 rows x 23 columns]"
      ]
     },
     "execution_count": 2,
     "metadata": {},
     "output_type": "execute_result"
    }
   ],
   "source": [
    "df = pd.read_csv('B:/My Works/Data Science/Jenga Kenya/dummy_data.csv', parse_dates = True)\n",
    "df.head()"
   ]
  },
  {
   "cell_type": "code",
   "execution_count": 3,
   "metadata": {},
   "outputs": [],
   "source": [
    "#df.drop(['Unnamed: 0_x','Unnamed: 0_y','Jenga_Cheque_#'], axis=1, inplace=True)"
   ]
  },
  {
   "cell_type": "code",
   "execution_count": 4,
   "metadata": {},
   "outputs": [
    {
     "data": {
      "text/html": [
       "<div>\n",
       "<style scoped>\n",
       "    .dataframe tbody tr th:only-of-type {\n",
       "        vertical-align: middle;\n",
       "    }\n",
       "\n",
       "    .dataframe tbody tr th {\n",
       "        vertical-align: top;\n",
       "    }\n",
       "\n",
       "    .dataframe thead th {\n",
       "        text-align: right;\n",
       "    }\n",
       "</style>\n",
       "<table border=\"1\" class=\"dataframe\">\n",
       "  <thead>\n",
       "    <tr style=\"text-align: right;\">\n",
       "      <th></th>\n",
       "      <th>ClientID</th>\n",
       "      <th>Group ID</th>\n",
       "      <th>Active</th>\n",
       "      <th>Gender</th>\n",
       "      <th>Loan ID</th>\n",
       "      <th>Loan_Type</th>\n",
       "      <th>Loan_Amount</th>\n",
       "      <th>Interest_Rate</th>\n",
       "      <th>Loan_Length</th>\n",
       "      <th>Number_Payments</th>\n",
       "      <th>Time_Between_Payments</th>\n",
       "    </tr>\n",
       "  </thead>\n",
       "  <tbody>\n",
       "    <tr>\n",
       "      <th>count</th>\n",
       "      <td>5719.000000</td>\n",
       "      <td>5716.000000</td>\n",
       "      <td>5718.000000</td>\n",
       "      <td>5401.000000</td>\n",
       "      <td>4009.000000</td>\n",
       "      <td>4009.000000</td>\n",
       "      <td>4003.000000</td>\n",
       "      <td>4009.000000</td>\n",
       "      <td>4009.000000</td>\n",
       "      <td>4009.000000</td>\n",
       "      <td>4009.000000</td>\n",
       "    </tr>\n",
       "    <tr>\n",
       "      <th>mean</th>\n",
       "      <td>2911.913796</td>\n",
       "      <td>100147.415675</td>\n",
       "      <td>0.816544</td>\n",
       "      <td>1.726717</td>\n",
       "      <td>7475.930157</td>\n",
       "      <td>6.910202</td>\n",
       "      <td>21062.157132</td>\n",
       "      <td>0.180382</td>\n",
       "      <td>10.586181</td>\n",
       "      <td>40.940883</td>\n",
       "      <td>1.082814</td>\n",
       "    </tr>\n",
       "    <tr>\n",
       "      <th>std</th>\n",
       "      <td>1673.574042</td>\n",
       "      <td>96.839563</td>\n",
       "      <td>0.387074</td>\n",
       "      <td>0.445686</td>\n",
       "      <td>4437.947642</td>\n",
       "      <td>3.409131</td>\n",
       "      <td>30442.526176</td>\n",
       "      <td>0.042058</td>\n",
       "      <td>3.022309</td>\n",
       "      <td>15.153893</td>\n",
       "      <td>0.275635</td>\n",
       "    </tr>\n",
       "    <tr>\n",
       "      <th>min</th>\n",
       "      <td>22.000000</td>\n",
       "      <td>100001.000000</td>\n",
       "      <td>0.000000</td>\n",
       "      <td>1.000000</td>\n",
       "      <td>4.000000</td>\n",
       "      <td>1.000000</td>\n",
       "      <td>0.000000</td>\n",
       "      <td>0.050000</td>\n",
       "      <td>1.000000</td>\n",
       "      <td>4.000000</td>\n",
       "      <td>1.000000</td>\n",
       "    </tr>\n",
       "    <tr>\n",
       "      <th>25%</th>\n",
       "      <td>1466.500000</td>\n",
       "      <td>100056.000000</td>\n",
       "      <td>1.000000</td>\n",
       "      <td>1.000000</td>\n",
       "      <td>3694.000000</td>\n",
       "      <td>5.000000</td>\n",
       "      <td>4500.000000</td>\n",
       "      <td>0.200000</td>\n",
       "      <td>12.000000</td>\n",
       "      <td>24.000000</td>\n",
       "      <td>1.000000</td>\n",
       "    </tr>\n",
       "    <tr>\n",
       "      <th>50%</th>\n",
       "      <td>2905.000000</td>\n",
       "      <td>100144.000000</td>\n",
       "      <td>1.000000</td>\n",
       "      <td>2.000000</td>\n",
       "      <td>6868.000000</td>\n",
       "      <td>9.000000</td>\n",
       "      <td>12000.000000</td>\n",
       "      <td>0.200000</td>\n",
       "      <td>12.000000</td>\n",
       "      <td>50.000000</td>\n",
       "      <td>1.000000</td>\n",
       "    </tr>\n",
       "    <tr>\n",
       "      <th>75%</th>\n",
       "      <td>4347.500000</td>\n",
       "      <td>100232.000000</td>\n",
       "      <td>1.000000</td>\n",
       "      <td>2.000000</td>\n",
       "      <td>11993.000000</td>\n",
       "      <td>9.000000</td>\n",
       "      <td>26167.000000</td>\n",
       "      <td>0.200000</td>\n",
       "      <td>12.000000</td>\n",
       "      <td>50.000000</td>\n",
       "      <td>1.000000</td>\n",
       "    </tr>\n",
       "    <tr>\n",
       "      <th>max</th>\n",
       "      <td>5841.000000</td>\n",
       "      <td>100330.000000</td>\n",
       "      <td>1.000000</td>\n",
       "      <td>2.000000</td>\n",
       "      <td>14479.000000</td>\n",
       "      <td>12.000000</td>\n",
       "      <td>731500.000000</td>\n",
       "      <td>0.400000</td>\n",
       "      <td>24.000000</td>\n",
       "      <td>100.000000</td>\n",
       "      <td>2.000000</td>\n",
       "    </tr>\n",
       "  </tbody>\n",
       "</table>\n",
       "</div>"
      ],
      "text/plain": [
       "          ClientID       Group ID       Active       Gender       Loan ID  \\\n",
       "count  5719.000000    5716.000000  5718.000000  5401.000000   4009.000000   \n",
       "mean   2911.913796  100147.415675     0.816544     1.726717   7475.930157   \n",
       "std    1673.574042      96.839563     0.387074     0.445686   4437.947642   \n",
       "min      22.000000  100001.000000     0.000000     1.000000      4.000000   \n",
       "25%    1466.500000  100056.000000     1.000000     1.000000   3694.000000   \n",
       "50%    2905.000000  100144.000000     1.000000     2.000000   6868.000000   \n",
       "75%    4347.500000  100232.000000     1.000000     2.000000  11993.000000   \n",
       "max    5841.000000  100330.000000     1.000000     2.000000  14479.000000   \n",
       "\n",
       "         Loan_Type    Loan_Amount  Interest_Rate  Loan_Length  \\\n",
       "count  4009.000000    4003.000000    4009.000000  4009.000000   \n",
       "mean      6.910202   21062.157132       0.180382    10.586181   \n",
       "std       3.409131   30442.526176       0.042058     3.022309   \n",
       "min       1.000000       0.000000       0.050000     1.000000   \n",
       "25%       5.000000    4500.000000       0.200000    12.000000   \n",
       "50%       9.000000   12000.000000       0.200000    12.000000   \n",
       "75%       9.000000   26167.000000       0.200000    12.000000   \n",
       "max      12.000000  731500.000000       0.400000    24.000000   \n",
       "\n",
       "       Number_Payments  Time_Between_Payments  \n",
       "count      4009.000000            4009.000000  \n",
       "mean         40.940883               1.082814  \n",
       "std          15.153893               0.275635  \n",
       "min           4.000000               1.000000  \n",
       "25%          24.000000               1.000000  \n",
       "50%          50.000000               1.000000  \n",
       "75%          50.000000               1.000000  \n",
       "max         100.000000               2.000000  "
      ]
     },
     "execution_count": 4,
     "metadata": {},
     "output_type": "execute_result"
    }
   ],
   "source": [
    "df.describe()"
   ]
  },
  {
   "cell_type": "code",
   "execution_count": 5,
   "metadata": {},
   "outputs": [
    {
     "name": "stdout",
     "output_type": "stream",
     "text": [
      "<class 'pandas.core.frame.DataFrame'>\n",
      "RangeIndex: 5719 entries, 0 to 5718\n",
      "Data columns (total 23 columns):\n",
      " #   Column                       Non-Null Count  Dtype  \n",
      "---  ------                       --------------  -----  \n",
      " 0   ClientID                     5719 non-null   int64  \n",
      " 1   Group ID                     5716 non-null   float64\n",
      " 2   Client Type                  5693 non-null   object \n",
      " 3   Active                       5718 non-null   float64\n",
      " 4   Date Of Birth                3783 non-null   object \n",
      " 5   Gender                       5401 non-null   float64\n",
      " 6   Marital Status               3613 non-null   object \n",
      " 7   Registration Date            1714 non-null   object \n",
      " 8   County                       1768 non-null   object \n",
      " 9   NOK Relationship             3124 non-null   object \n",
      " 10  Main Economic Activity       2816 non-null   object \n",
      " 11  Client Location              2770 non-null   object \n",
      " 12  Secondary Economic Activity  1618 non-null   object \n",
      " 13  Occupation                   1073 non-null   object \n",
      " 14  Loan ID                      4009 non-null   float64\n",
      " 15  Inactive                     4009 non-null   object \n",
      " 16  Loan_Type                    4009 non-null   float64\n",
      " 17  Initial_Loan_Date            4005 non-null   object \n",
      " 18  Loan_Amount                  4003 non-null   float64\n",
      " 19  Interest_Rate                4009 non-null   float64\n",
      " 20  Loan_Length                  4009 non-null   float64\n",
      " 21  Number_Payments              4009 non-null   float64\n",
      " 22  Time_Between_Payments        4009 non-null   float64\n",
      "dtypes: float64(10), int64(1), object(12)\n",
      "memory usage: 1.0+ MB\n"
     ]
    }
   ],
   "source": [
    "df.info()"
   ]
  },
  {
   "cell_type": "markdown",
   "metadata": {},
   "source": [
    "### Preprocessing"
   ]
  },
  {
   "cell_type": "code",
   "execution_count": 6,
   "metadata": {},
   "outputs": [
    {
     "data": {
      "text/plain": [
       "ClientID                          0\n",
       "Group ID                          3\n",
       "Client Type                      26\n",
       "Active                            1\n",
       "Date Of Birth                  1936\n",
       "Gender                          318\n",
       "Marital Status                 2106\n",
       "Registration Date              4005\n",
       "County                         3951\n",
       "NOK Relationship               2595\n",
       "Main Economic Activity         2903\n",
       "Client Location                2949\n",
       "Secondary Economic Activity    4101\n",
       "Occupation                     4646\n",
       "Loan ID                        1710\n",
       "Inactive                       1710\n",
       "Loan_Type                      1710\n",
       "Initial_Loan_Date              1714\n",
       "Loan_Amount                    1716\n",
       "Interest_Rate                  1710\n",
       "Loan_Length                    1710\n",
       "Number_Payments                1710\n",
       "Time_Between_Payments          1710\n",
       "dtype: int64"
      ]
     },
     "execution_count": 6,
     "metadata": {},
     "output_type": "execute_result"
    }
   ],
   "source": [
    "#find the null values\n",
    "df.isnull().sum()"
   ]
  },
  {
   "cell_type": "code",
   "execution_count": 7,
   "metadata": {},
   "outputs": [],
   "source": [
    "# fill the missing vallues for numerical terms - mean\n",
    "df['Loan_Amount'] = df['Loan_Amount'].fillna(df['Loan_Amount'].mean())\n",
    "df['Loan_Length'] = df['Loan_Length'].fillna(df['Loan_Length'].mode()[0])\n"
   ]
  },
  {
   "cell_type": "code",
   "execution_count": 8,
   "metadata": {},
   "outputs": [
    {
     "data": {
      "text/plain": [
       "1.0"
      ]
     },
     "execution_count": 8,
     "metadata": {},
     "output_type": "execute_result"
    }
   ],
   "source": [
    "df['Active'].mode()[0]"
   ]
  },
  {
   "cell_type": "code",
   "execution_count": 9,
   "metadata": {},
   "outputs": [],
   "source": [
    "# fill the missing values for categorical and ordinal terms - mode\n",
    "df['Group ID'] = df['Group ID'].fillna(df['Group ID'].mode()[0])\n",
    "df['Client Type'] = df['Client Type'].fillna(df['Client Type'].mode()[0])\n",
    "df['Active'] = df['Active'].fillna(df['Active'].mode()[0])\n",
    "df['Date Of Birth'] = df['Date Of Birth'].fillna(df['Date Of Birth'].mode()[0])\n",
    "df['Gender'] = df['Gender'].fillna(df['Gender'].mode()[0])\n",
    "df['Marital Status'] = df['Marital Status'].fillna(df['Marital Status'].mode()[0])\n",
    "df['Registration Date'] = df['Registration Date'].fillna(df['Registration Date'].mode()[0])\n",
    "df['County'] = df['County'].fillna(df['County'].mode()[0])\n",
    "df['NOK Relationship'] = df['NOK Relationship'].fillna(df['NOK Relationship'].mode()[0])\n",
    "df['Main Economic Activity'] = df['Main Economic Activity'].fillna(df['Main Economic Activity'].mode()[0])\n",
    "df['Client Location'] = df['Client Location'].fillna(df['Client Location'].mode()[0])\n",
    "df['Secondary Economic Activity'] = df['Secondary Economic Activity'].fillna(df['Secondary Economic Activity'].mode()[0])\n",
    "df['Occupation'] = df['Occupation'].fillna(df['Occupation'].mode()[0])\n",
    "df['Loan ID'] = df['Loan ID'].fillna(df['Loan ID'].mode()[0])\n",
    "df['Inactive'] = df['Inactive'].fillna(df['Inactive'].mode()[0])\n",
    "df['Loan_Type'] = df['Loan_Type'].fillna(df['Loan_Type'].mode()[0])\n",
    "df['Initial_Loan_Date'] = df['Initial_Loan_Date'].fillna(df['Initial_Loan_Date'].mode()[0])\n",
    "df['Interest_Rate'] = df['Interest_Rate'].fillna(df['Interest_Rate'].mode()[0])\n",
    "df['Number_Payments'] = df['Number_Payments'].fillna(df['Number_Payments'].mode()[0])\n",
    "df['Time_Between_Payments'] = df['Time_Between_Payments'].fillna(df['Time_Between_Payments'].mode()[0])"
   ]
  },
  {
   "cell_type": "code",
   "execution_count": 10,
   "metadata": {},
   "outputs": [
    {
     "data": {
      "text/plain": [
       "ClientID                       0\n",
       "Group ID                       0\n",
       "Client Type                    0\n",
       "Active                         0\n",
       "Date Of Birth                  0\n",
       "Gender                         0\n",
       "Marital Status                 0\n",
       "Registration Date              0\n",
       "County                         0\n",
       "NOK Relationship               0\n",
       "Main Economic Activity         0\n",
       "Client Location                0\n",
       "Secondary Economic Activity    0\n",
       "Occupation                     0\n",
       "Loan ID                        0\n",
       "Inactive                       0\n",
       "Loan_Type                      0\n",
       "Initial_Loan_Date              0\n",
       "Loan_Amount                    0\n",
       "Interest_Rate                  0\n",
       "Loan_Length                    0\n",
       "Number_Payments                0\n",
       "Time_Between_Payments          0\n",
       "dtype: int64"
      ]
     },
     "execution_count": 10,
     "metadata": {},
     "output_type": "execute_result"
    }
   ],
   "source": [
    "df.isnull().sum()"
   ]
  },
  {
   "cell_type": "code",
   "execution_count": 11,
   "metadata": {},
   "outputs": [],
   "source": [
    "#df.to_csv(r'B:/My Works/Data Science/Jenga Kenya/CHECK.csv',index=True)"
   ]
  },
  {
   "cell_type": "markdown",
   "metadata": {},
   "source": [
    "### Exploratory Data Analysis\n"
   ]
  },
  {
   "cell_type": "raw",
   "metadata": {},
   "source": [
    "sns.countplot(df['Client Type'])"
   ]
  },
  {
   "cell_type": "raw",
   "metadata": {},
   "source": [
    "sns.countplot(df['Active'])"
   ]
  },
  {
   "cell_type": "raw",
   "metadata": {},
   "source": [
    "sns.countplot(df['Gender'])"
   ]
  },
  {
   "cell_type": "raw",
   "metadata": {},
   "source": [
    "sns.countplot(df['Marital Status'])"
   ]
  },
  {
   "cell_type": "raw",
   "metadata": {},
   "source": [
    "sns.countplot(df['Loan_Type'])"
   ]
  },
  {
   "cell_type": "raw",
   "metadata": {},
   "source": [
    "sns.displot(df['Loan_Length'])"
   ]
  },
  {
   "cell_type": "raw",
   "metadata": {},
   "source": [
    "sns.displot(df['Loan_Amount'])"
   ]
  },
  {
   "cell_type": "raw",
   "metadata": {},
   "source": [
    "# apply log transformation to the attribute\n",
    "df['Loan_Amount'] = np.log(df['Loan_Amount'])"
   ]
  },
  {
   "cell_type": "raw",
   "metadata": {},
   "source": [
    "sns.displot(df['Loan_Amount'])\n",
    "sns.displot(df[np.isfinite(df['Loan_Amount'])].values)"
   ]
  },
  {
   "cell_type": "markdown",
   "metadata": {},
   "source": [
    "### Create additional attributes\n",
    " - Age\n",
    " - DOB day\n",
    " - DOB month\n",
    " - DOB year\n",
    " - Disbursal day (Initial Loan date)\n",
    " - Client duration\n",
    " - Number of subsequent Loans"
   ]
  },
  {
   "cell_type": "code",
   "execution_count": 12,
   "metadata": {},
   "outputs": [],
   "source": [
    "class LoanCustomFeatures:\n",
    "    def __init__(self, df):\n",
    "        self.df = df\n",
    "    \n",
    "    def date_based_features(self):\n",
    "        self.df['Date Of Birth'] = pd.to_datetime(self.df['Date Of Birth'])\n",
    "        self.df['day'] = self.df['Date Of Birth'].dt.day\n",
    "        self.df['month'] = self.df['Date Of Birth'].dt.month\n",
    "        self.df['year'] = self.df['Date Of Birth'].dt.year\n",
    "        \n",
    "        #Calculate the age of the client at the time of disbursement.\n",
    "        self.df['Initial_Loan_Date'] = pd.to_datetime(self.df['Initial_Loan_Date'])\n",
    "        self.df['dis_day'] = self.df['Initial_Loan_Date'].dt.day\n",
    "        self.df['age'] = self.df(['Initial_Loan_Date'] - df['Date Of Birth'])\n",
    "        self.df['age'] = self.df['age'].dt.days\n",
    "        self.df.drop(columns = ['Date Of Birth', 'Initial_Loan_Date'], inplace=True) \n",
    "        return self.df       "
   ]
  },
  {
   "cell_type": "code",
   "execution_count": 13,
   "metadata": {},
   "outputs": [
    {
     "ename": "TypeError",
     "evalue": "unsupported operand type(s) for -: 'DatetimeArray' and 'list'",
     "output_type": "error",
     "traceback": [
      "\u001b[1;31m---------------------------------------------------------------------------\u001b[0m",
      "\u001b[1;31mTypeError\u001b[0m                                 Traceback (most recent call last)",
      "\u001b[1;32m<ipython-input-13-4c1533208276>\u001b[0m in \u001b[0;36m<module>\u001b[1;34m\u001b[0m\n\u001b[0;32m      1\u001b[0m \u001b[1;32mfor\u001b[0m \u001b[0mdf\u001b[0m \u001b[1;32min\u001b[0m \u001b[1;33m[\u001b[0m\u001b[0mdf\u001b[0m\u001b[1;33m]\u001b[0m\u001b[1;33m:\u001b[0m\u001b[1;33m\u001b[0m\u001b[1;33m\u001b[0m\u001b[0m\n\u001b[0;32m      2\u001b[0m     \u001b[0mloan_feature\u001b[0m \u001b[1;33m=\u001b[0m \u001b[0mLoanCustomFeatures\u001b[0m\u001b[1;33m(\u001b[0m\u001b[0mdf\u001b[0m\u001b[1;33m)\u001b[0m\u001b[1;33m\u001b[0m\u001b[1;33m\u001b[0m\u001b[0m\n\u001b[1;32m----> 3\u001b[1;33m     \u001b[0mdf\u001b[0m \u001b[1;33m=\u001b[0m \u001b[0mloan_feature\u001b[0m\u001b[1;33m.\u001b[0m\u001b[0mdate_based_features\u001b[0m\u001b[1;33m(\u001b[0m\u001b[1;33m)\u001b[0m\u001b[1;33m\u001b[0m\u001b[1;33m\u001b[0m\u001b[0m\n\u001b[0m\u001b[0;32m      4\u001b[0m     \u001b[0mdf\u001b[0m\u001b[1;33m\u001b[0m\u001b[1;33m\u001b[0m\u001b[0m\n",
      "\u001b[1;32m<ipython-input-12-767ba9ea84a7>\u001b[0m in \u001b[0;36mdate_based_features\u001b[1;34m(self)\u001b[0m\n\u001b[0;32m     12\u001b[0m         \u001b[0mself\u001b[0m\u001b[1;33m.\u001b[0m\u001b[0mdf\u001b[0m\u001b[1;33m[\u001b[0m\u001b[1;34m'Initial_Loan_Date'\u001b[0m\u001b[1;33m]\u001b[0m \u001b[1;33m=\u001b[0m \u001b[0mpd\u001b[0m\u001b[1;33m.\u001b[0m\u001b[0mto_datetime\u001b[0m\u001b[1;33m(\u001b[0m\u001b[0mself\u001b[0m\u001b[1;33m.\u001b[0m\u001b[0mdf\u001b[0m\u001b[1;33m[\u001b[0m\u001b[1;34m'Initial_Loan_Date'\u001b[0m\u001b[1;33m]\u001b[0m\u001b[1;33m)\u001b[0m\u001b[1;33m\u001b[0m\u001b[1;33m\u001b[0m\u001b[0m\n\u001b[0;32m     13\u001b[0m         \u001b[0mself\u001b[0m\u001b[1;33m.\u001b[0m\u001b[0mdf\u001b[0m\u001b[1;33m[\u001b[0m\u001b[1;34m'dis_day'\u001b[0m\u001b[1;33m]\u001b[0m \u001b[1;33m=\u001b[0m \u001b[0mself\u001b[0m\u001b[1;33m.\u001b[0m\u001b[0mdf\u001b[0m\u001b[1;33m[\u001b[0m\u001b[1;34m'Initial_Loan_Date'\u001b[0m\u001b[1;33m]\u001b[0m\u001b[1;33m.\u001b[0m\u001b[0mdt\u001b[0m\u001b[1;33m.\u001b[0m\u001b[0mday\u001b[0m\u001b[1;33m\u001b[0m\u001b[1;33m\u001b[0m\u001b[0m\n\u001b[1;32m---> 14\u001b[1;33m         \u001b[0mself\u001b[0m\u001b[1;33m.\u001b[0m\u001b[0mdf\u001b[0m\u001b[1;33m[\u001b[0m\u001b[1;34m'age'\u001b[0m\u001b[1;33m]\u001b[0m \u001b[1;33m=\u001b[0m \u001b[0mself\u001b[0m\u001b[1;33m.\u001b[0m\u001b[0mdf\u001b[0m\u001b[1;33m(\u001b[0m\u001b[1;33m[\u001b[0m\u001b[1;34m'Initial_Loan_Date'\u001b[0m\u001b[1;33m]\u001b[0m \u001b[1;33m-\u001b[0m \u001b[0mdf\u001b[0m\u001b[1;33m[\u001b[0m\u001b[1;34m'Date Of Birth'\u001b[0m\u001b[1;33m]\u001b[0m\u001b[1;33m)\u001b[0m\u001b[1;33m\u001b[0m\u001b[1;33m\u001b[0m\u001b[0m\n\u001b[0m\u001b[0;32m     15\u001b[0m         \u001b[0mself\u001b[0m\u001b[1;33m.\u001b[0m\u001b[0mdf\u001b[0m\u001b[1;33m[\u001b[0m\u001b[1;34m'age'\u001b[0m\u001b[1;33m]\u001b[0m \u001b[1;33m=\u001b[0m \u001b[0mself\u001b[0m\u001b[1;33m.\u001b[0m\u001b[0mdf\u001b[0m\u001b[1;33m[\u001b[0m\u001b[1;34m'age'\u001b[0m\u001b[1;33m]\u001b[0m\u001b[1;33m.\u001b[0m\u001b[0mdt\u001b[0m\u001b[1;33m.\u001b[0m\u001b[0mdays\u001b[0m\u001b[1;33m\u001b[0m\u001b[1;33m\u001b[0m\u001b[0m\n\u001b[0;32m     16\u001b[0m         \u001b[0mself\u001b[0m\u001b[1;33m.\u001b[0m\u001b[0mdf\u001b[0m\u001b[1;33m.\u001b[0m\u001b[0mdrop\u001b[0m\u001b[1;33m(\u001b[0m\u001b[0mcolumns\u001b[0m \u001b[1;33m=\u001b[0m \u001b[1;33m[\u001b[0m\u001b[1;34m'Date Of Birth'\u001b[0m\u001b[1;33m,\u001b[0m \u001b[1;34m'Initial_Loan_Date'\u001b[0m\u001b[1;33m]\u001b[0m\u001b[1;33m,\u001b[0m \u001b[0minplace\u001b[0m\u001b[1;33m=\u001b[0m\u001b[1;32mTrue\u001b[0m\u001b[1;33m)\u001b[0m\u001b[1;33m\u001b[0m\u001b[1;33m\u001b[0m\u001b[0m\n",
      "\u001b[1;32mB:\\Conda\\envs\\loan-default-serve\\lib\\site-packages\\pandas\\core\\ops\\common.py\u001b[0m in \u001b[0;36mnew_method\u001b[1;34m(self, other)\u001b[0m\n\u001b[0;32m     63\u001b[0m         \u001b[0mother\u001b[0m \u001b[1;33m=\u001b[0m \u001b[0mitem_from_zerodim\u001b[0m\u001b[1;33m(\u001b[0m\u001b[0mother\u001b[0m\u001b[1;33m)\u001b[0m\u001b[1;33m\u001b[0m\u001b[1;33m\u001b[0m\u001b[0m\n\u001b[0;32m     64\u001b[0m \u001b[1;33m\u001b[0m\u001b[0m\n\u001b[1;32m---> 65\u001b[1;33m         \u001b[1;32mreturn\u001b[0m \u001b[0mmethod\u001b[0m\u001b[1;33m(\u001b[0m\u001b[0mself\u001b[0m\u001b[1;33m,\u001b[0m \u001b[0mother\u001b[0m\u001b[1;33m)\u001b[0m\u001b[1;33m\u001b[0m\u001b[1;33m\u001b[0m\u001b[0m\n\u001b[0m\u001b[0;32m     66\u001b[0m \u001b[1;33m\u001b[0m\u001b[0m\n\u001b[0;32m     67\u001b[0m     \u001b[1;32mreturn\u001b[0m \u001b[0mnew_method\u001b[0m\u001b[1;33m\u001b[0m\u001b[1;33m\u001b[0m\u001b[0m\n",
      "\u001b[1;32mB:\\Conda\\envs\\loan-default-serve\\lib\\site-packages\\pandas\\core\\ops\\__init__.py\u001b[0m in \u001b[0;36mwrapper\u001b[1;34m(left, right)\u001b[0m\n\u001b[0;32m    341\u001b[0m         \u001b[0mlvalues\u001b[0m \u001b[1;33m=\u001b[0m \u001b[0mextract_array\u001b[0m\u001b[1;33m(\u001b[0m\u001b[0mleft\u001b[0m\u001b[1;33m,\u001b[0m \u001b[0mextract_numpy\u001b[0m\u001b[1;33m=\u001b[0m\u001b[1;32mTrue\u001b[0m\u001b[1;33m)\u001b[0m\u001b[1;33m\u001b[0m\u001b[1;33m\u001b[0m\u001b[0m\n\u001b[0;32m    342\u001b[0m         \u001b[0mrvalues\u001b[0m \u001b[1;33m=\u001b[0m \u001b[0mextract_array\u001b[0m\u001b[1;33m(\u001b[0m\u001b[0mright\u001b[0m\u001b[1;33m,\u001b[0m \u001b[0mextract_numpy\u001b[0m\u001b[1;33m=\u001b[0m\u001b[1;32mTrue\u001b[0m\u001b[1;33m)\u001b[0m\u001b[1;33m\u001b[0m\u001b[1;33m\u001b[0m\u001b[0m\n\u001b[1;32m--> 343\u001b[1;33m         \u001b[0mresult\u001b[0m \u001b[1;33m=\u001b[0m \u001b[0marithmetic_op\u001b[0m\u001b[1;33m(\u001b[0m\u001b[0mlvalues\u001b[0m\u001b[1;33m,\u001b[0m \u001b[0mrvalues\u001b[0m\u001b[1;33m,\u001b[0m \u001b[0mop\u001b[0m\u001b[1;33m)\u001b[0m\u001b[1;33m\u001b[0m\u001b[1;33m\u001b[0m\u001b[0m\n\u001b[0m\u001b[0;32m    344\u001b[0m \u001b[1;33m\u001b[0m\u001b[0m\n\u001b[0;32m    345\u001b[0m         \u001b[1;32mreturn\u001b[0m \u001b[0mleft\u001b[0m\u001b[1;33m.\u001b[0m\u001b[0m_construct_result\u001b[0m\u001b[1;33m(\u001b[0m\u001b[0mresult\u001b[0m\u001b[1;33m,\u001b[0m \u001b[0mname\u001b[0m\u001b[1;33m=\u001b[0m\u001b[0mres_name\u001b[0m\u001b[1;33m)\u001b[0m\u001b[1;33m\u001b[0m\u001b[1;33m\u001b[0m\u001b[0m\n",
      "\u001b[1;32mB:\\Conda\\envs\\loan-default-serve\\lib\\site-packages\\pandas\\core\\ops\\array_ops.py\u001b[0m in \u001b[0;36marithmetic_op\u001b[1;34m(left, right, op)\u001b[0m\n\u001b[0;32m    184\u001b[0m     \u001b[1;32mif\u001b[0m \u001b[0mshould_extension_dispatch\u001b[0m\u001b[1;33m(\u001b[0m\u001b[0mlvalues\u001b[0m\u001b[1;33m,\u001b[0m \u001b[0mrvalues\u001b[0m\u001b[1;33m)\u001b[0m \u001b[1;32mor\u001b[0m \u001b[0misinstance\u001b[0m\u001b[1;33m(\u001b[0m\u001b[0mrvalues\u001b[0m\u001b[1;33m,\u001b[0m \u001b[0mTimedelta\u001b[0m\u001b[1;33m)\u001b[0m\u001b[1;33m:\u001b[0m\u001b[1;33m\u001b[0m\u001b[1;33m\u001b[0m\u001b[0m\n\u001b[0;32m    185\u001b[0m         \u001b[1;31m# Timedelta is included because numexpr will fail on it, see GH#31457\u001b[0m\u001b[1;33m\u001b[0m\u001b[1;33m\u001b[0m\u001b[1;33m\u001b[0m\u001b[0m\n\u001b[1;32m--> 186\u001b[1;33m         \u001b[0mres_values\u001b[0m \u001b[1;33m=\u001b[0m \u001b[0mop\u001b[0m\u001b[1;33m(\u001b[0m\u001b[0mlvalues\u001b[0m\u001b[1;33m,\u001b[0m \u001b[0mrvalues\u001b[0m\u001b[1;33m)\u001b[0m\u001b[1;33m\u001b[0m\u001b[1;33m\u001b[0m\u001b[0m\n\u001b[0m\u001b[0;32m    187\u001b[0m \u001b[1;33m\u001b[0m\u001b[0m\n\u001b[0;32m    188\u001b[0m     \u001b[1;32melse\u001b[0m\u001b[1;33m:\u001b[0m\u001b[1;33m\u001b[0m\u001b[1;33m\u001b[0m\u001b[0m\n",
      "\u001b[1;32mB:\\Conda\\envs\\loan-default-serve\\lib\\site-packages\\pandas\\core\\ops\\roperator.py\u001b[0m in \u001b[0;36mrsub\u001b[1;34m(left, right)\u001b[0m\n\u001b[0;32m     11\u001b[0m \u001b[1;33m\u001b[0m\u001b[0m\n\u001b[0;32m     12\u001b[0m \u001b[1;32mdef\u001b[0m \u001b[0mrsub\u001b[0m\u001b[1;33m(\u001b[0m\u001b[0mleft\u001b[0m\u001b[1;33m,\u001b[0m \u001b[0mright\u001b[0m\u001b[1;33m)\u001b[0m\u001b[1;33m:\u001b[0m\u001b[1;33m\u001b[0m\u001b[1;33m\u001b[0m\u001b[0m\n\u001b[1;32m---> 13\u001b[1;33m     \u001b[1;32mreturn\u001b[0m \u001b[0mright\u001b[0m \u001b[1;33m-\u001b[0m \u001b[0mleft\u001b[0m\u001b[1;33m\u001b[0m\u001b[1;33m\u001b[0m\u001b[0m\n\u001b[0m\u001b[0;32m     14\u001b[0m \u001b[1;33m\u001b[0m\u001b[0m\n\u001b[0;32m     15\u001b[0m \u001b[1;33m\u001b[0m\u001b[0m\n",
      "\u001b[1;32mB:\\Conda\\envs\\loan-default-serve\\lib\\site-packages\\pandas\\core\\arrays\\datetimelike.py\u001b[0m in \u001b[0;36m__rsub__\u001b[1;34m(self, other)\u001b[0m\n\u001b[0;32m   1530\u001b[0m \u001b[1;33m\u001b[0m\u001b[0m\n\u001b[0;32m   1531\u001b[0m         \u001b[1;31m# We get here with e.g. datetime objects\u001b[0m\u001b[1;33m\u001b[0m\u001b[1;33m\u001b[0m\u001b[1;33m\u001b[0m\u001b[0m\n\u001b[1;32m-> 1532\u001b[1;33m         \u001b[1;32mreturn\u001b[0m \u001b[1;33m-\u001b[0m\u001b[1;33m(\u001b[0m\u001b[0mself\u001b[0m \u001b[1;33m-\u001b[0m \u001b[0mother\u001b[0m\u001b[1;33m)\u001b[0m\u001b[1;33m\u001b[0m\u001b[1;33m\u001b[0m\u001b[0m\n\u001b[0m\u001b[0;32m   1533\u001b[0m \u001b[1;33m\u001b[0m\u001b[0m\n\u001b[0;32m   1534\u001b[0m     \u001b[1;32mdef\u001b[0m \u001b[0m__iadd__\u001b[0m\u001b[1;33m(\u001b[0m\u001b[0mself\u001b[0m\u001b[1;33m,\u001b[0m \u001b[0mother\u001b[0m\u001b[1;33m)\u001b[0m\u001b[1;33m:\u001b[0m\u001b[1;33m\u001b[0m\u001b[1;33m\u001b[0m\u001b[0m\n",
      "\u001b[1;31mTypeError\u001b[0m: unsupported operand type(s) for -: 'DatetimeArray' and 'list'"
     ]
    }
   ],
   "source": [
    "for df in [df]:\n",
    "    loan_feature = LoanCustomFeatures(df)\n",
    "    df = loan_feature.date_based_features()\n",
    "    df "
   ]
  },
  {
   "cell_type": "markdown",
   "metadata": {},
   "source": [
    "## Label Encoding"
   ]
  },
  {
   "cell_type": "code",
   "execution_count": null,
   "metadata": {},
   "outputs": [],
   "source": []
  }
 ],
 "metadata": {
  "kernelspec": {
   "display_name": "Python [conda env:loan-default-serve]",
   "language": "python",
   "name": "conda-env-loan-default-serve-py"
  },
  "language_info": {
   "codemirror_mode": {
    "name": "ipython",
    "version": 3
   },
   "file_extension": ".py",
   "mimetype": "text/x-python",
   "name": "python",
   "nbconvert_exporter": "python",
   "pygments_lexer": "ipython3",
   "version": "3.7.6"
  }
 },
 "nbformat": 4,
 "nbformat_minor": 2
}
